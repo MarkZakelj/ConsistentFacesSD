{
 "cells": [
  {
   "cell_type": "code",
   "id": "initial_id",
   "metadata": {
    "collapsed": true,
    "ExecuteTime": {
     "end_time": "2024-09-24T08:49:07.767478Z",
     "start_time": "2024-09-24T08:49:05.146022Z"
    }
   },
   "source": [
    "from face_quality.diffiqar.dataset import FaceImageSubsetDataset\n",
    "from PIL import Image\n",
    "from torchvision.transforms import Compose\n",
    "import cv2\n",
    "import numpy as np\n",
    "from insightface.app import FaceAnalysis\n",
    "import insightface"
   ],
   "outputs": [
    {
     "name": "stderr",
     "output_type": "stream",
     "text": [
      "/Users/mzakel/Programming/MagisterijEksperimenti/venv/lib/python3.10/site-packages/albumentations/__init__.py:13: UserWarning: A new version of Albumentations is available: 1.4.16 (you have 1.4.15). Upgrade using: pip install -U albumentations. To disable automatic update checks, set the environment variable NO_ALBUMENTATIONS_UPDATE to 1.\n",
      "  check_for_updates()\n"
     ]
    }
   ],
   "execution_count": 2
  },
  {
   "metadata": {
    "ExecuteTime": {
     "end_time": "2024-09-24T08:49:08.295210Z",
     "start_time": "2024-09-24T08:49:07.768432Z"
    }
   },
   "cell_type": "code",
   "source": [
    "app = FaceAnalysis(providers=['CPUExecutionProvider'])\n",
    "app.prepare(ctx_id=0, det_size=(128, 128))"
   ],
   "id": "92eb9814f789bbf6",
   "outputs": [
    {
     "name": "stdout",
     "output_type": "stream",
     "text": [
      "Applied providers: ['CPUExecutionProvider'], with options: {'CPUExecutionProvider': {}}\n",
      "find model: /Users/mzakel/.insightface/models/buffalo_l/1k3d68.onnx landmark_3d_68 ['None', 3, 192, 192] 0.0 1.0\n",
      "Applied providers: ['CPUExecutionProvider'], with options: {'CPUExecutionProvider': {}}\n",
      "find model: /Users/mzakel/.insightface/models/buffalo_l/2d106det.onnx landmark_2d_106 ['None', 3, 192, 192] 0.0 1.0\n",
      "Applied providers: ['CPUExecutionProvider'], with options: {'CPUExecutionProvider': {}}\n",
      "find model: /Users/mzakel/.insightface/models/buffalo_l/det_10g.onnx detection [1, 3, '?', '?'] 127.5 128.0\n",
      "Applied providers: ['CPUExecutionProvider'], with options: {'CPUExecutionProvider': {}}\n",
      "find model: /Users/mzakel/.insightface/models/buffalo_l/genderage.onnx genderage ['None', 3, 96, 96] 0.0 1.0\n",
      "Applied providers: ['CPUExecutionProvider'], with options: {'CPUExecutionProvider': {}}\n",
      "find model: /Users/mzakel/.insightface/models/buffalo_l/w600k_r50.onnx recognition ['None', 3, 112, 112] 127.5 127.5\n",
      "set det-size: (128, 128)\n"
     ]
    }
   ],
   "execution_count": 3
  },
  {
   "metadata": {},
   "cell_type": "code",
   "source": [
    "for data, img in FaceImageSubsetDataset('two_people_faceid_dreamshaper', trans=Compose([]), bbox_pad=0.2, bbox_square=True):\n",
    "    im = np.array(img)\n",
    "    im = cv2.cvtColor(im, cv2.COLOR_RGB2BGR)\n",
    "    faces = app.get(im)\n",
    "    if len(faces) > 0:\n",
    "        face = faces[0]\n",
    "        bbox = face.bbox.astype(int)\n",
    "        landmarks = face.kps\n",
    "        aligned_face = insightface.utils.face_align.norm_crop(im, landmarks)\n",
    "    else:\n",
    "        print(\"no face\")"
   ],
   "id": "7f260ecbfc0effc3",
   "outputs": [],
   "execution_count": null
  },
  {
   "metadata": {},
   "cell_type": "code",
   "source": "",
   "id": "7b08359bb4c7d37",
   "outputs": [],
   "execution_count": null
  }
 ],
 "metadata": {
  "kernelspec": {
   "display_name": "Python 3",
   "language": "python",
   "name": "python3"
  },
  "language_info": {
   "codemirror_mode": {
    "name": "ipython",
    "version": 2
   },
   "file_extension": ".py",
   "mimetype": "text/x-python",
   "name": "python",
   "nbconvert_exporter": "python",
   "pygments_lexer": "ipython2",
   "version": "2.7.6"
  }
 },
 "nbformat": 4,
 "nbformat_minor": 5
}
