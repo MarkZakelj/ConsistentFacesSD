{
 "cells": [
  {
   "cell_type": "code",
   "id": "initial_id",
   "metadata": {
    "collapsed": true,
    "ExecuteTime": {
     "end_time": "2024-10-14T09:30:14.846999Z",
     "start_time": "2024-10-14T09:30:14.629283Z"
    }
   },
   "source": "from scipy.optimize import linear_sum_assignment",
   "outputs": [],
   "execution_count": 1
  },
  {
   "metadata": {
    "ExecuteTime": {
     "end_time": "2024-10-14T09:30:41.219713Z",
     "start_time": "2024-10-14T09:30:41.211836Z"
    }
   },
   "cell_type": "code",
   "source": "scores = [[10, 20], [1, 13], [2, 52]]",
   "id": "c5f9e3b8ec85005b",
   "outputs": [],
   "execution_count": 2
  },
  {
   "metadata": {
    "ExecuteTime": {
     "end_time": "2024-10-14T09:30:45.902350Z",
     "start_time": "2024-10-14T09:30:45.896356Z"
    }
   },
   "cell_type": "code",
   "source": "linear_sum_assignment(scores)",
   "id": "eb1be0458793d02e",
   "outputs": [
    {
     "data": {
      "text/plain": [
       "(array([1, 2]), array([1, 0]))"
      ]
     },
     "execution_count": 3,
     "metadata": {},
     "output_type": "execute_result"
    }
   ],
   "execution_count": 3
  },
  {
   "metadata": {},
   "cell_type": "code",
   "outputs": [],
   "execution_count": null,
   "source": "",
   "id": "641e645d716c1637"
  }
 ],
 "metadata": {
  "kernelspec": {
   "display_name": "Python 3",
   "language": "python",
   "name": "python3"
  },
  "language_info": {
   "codemirror_mode": {
    "name": "ipython",
    "version": 2
   },
   "file_extension": ".py",
   "mimetype": "text/x-python",
   "name": "python",
   "nbconvert_exporter": "python",
   "pygments_lexer": "ipython2",
   "version": "2.7.6"
  }
 },
 "nbformat": 4,
 "nbformat_minor": 5
}
